{
 "cells": [
  {
   "cell_type": "code",
   "execution_count": 1,
   "metadata": {},
   "outputs": [],
   "source": [
    "import numpy as np"
   ]
  },
  {
   "cell_type": "code",
   "execution_count": 2,
   "metadata": {},
   "outputs": [
    {
     "name": "stdout",
     "output_type": "stream",
     "text": [
      "[[1 2 3]\n",
      " [4 5 6]]\n"
     ]
    }
   ],
   "source": [
    "# Criando matriz 3x3\n",
    "\n",
    "a = np.array([(1,2,3),(4,5,6),(7,8,())])\n",
    "print(a)"
   ]
  },
  {
   "cell_type": "code",
   "execution_count": 12,
   "metadata": {},
   "outputs": [
    {
     "name": "stdout",
     "output_type": "stream",
     "text": [
      "[[0. 0. 0.]\n",
      " [0. 0. 0.]\n",
      " [0. 0. 0.]\n",
      " [0. 0. 0.]]\n",
      " \n",
      "[[1. 1. 1.]\n",
      " [1. 1. 1.]\n",
      " [1. 1. 1.]\n",
      " [1. 1. 1.]]\n",
      " \n",
      "[[1. 0. 0. 0. 0. 0. 0. 0. 0. 0.]\n",
      " [0. 1. 0. 0. 0. 0. 0. 0. 0. 0.]\n",
      " [0. 0. 1. 0. 0. 0. 0. 0. 0. 0.]\n",
      " [0. 0. 0. 1. 0. 0. 0. 0. 0. 0.]\n",
      " [0. 0. 0. 0. 1. 0. 0. 0. 0. 0.]\n",
      " [0. 0. 0. 0. 0. 1. 0. 0. 0. 0.]\n",
      " [0. 0. 0. 0. 0. 0. 1. 0. 0. 0.]\n",
      " [0. 0. 0. 0. 0. 0. 0. 1. 0. 0.]\n",
      " [0. 0. 0. 0. 0. 0. 0. 0. 1. 0.]\n",
      " [0. 0. 0. 0. 0. 0. 0. 0. 0. 1.]]\n"
     ]
    }
   ],
   "source": [
    "# Matriz com valor Zero 4x3\n",
    "c = np.zeros([4,3])\n",
    "\n",
    "# Matriz com valor Um 4x3\n",
    "d = np.ones([4,3])\n",
    "\n",
    "# Matriz quadrada 10x10 com diagonal Principal\n",
    "e = np.eye(10)\n",
    "\n",
    "print(c)\n",
    "print(\" \")\n",
    "print(d)\n",
    "print(\" \")\n",
    "print(e)"
   ]
  },
  {
   "cell_type": "code",
   "execution_count": 17,
   "metadata": {},
   "outputs": [
    {
     "name": "stdout",
     "output_type": "stream",
     "text": [
      "O maior valor da matriz é 6\n",
      "O menor valor da matriz é 1\n",
      "A soma dos valores da matriz é 21\n",
      "A média dos valores da matriz é 3.5\n",
      "O Desvio Padrão é 1.707825127659933\n"
     ]
    }
   ],
   "source": [
    "# Demais Funções da Numpy\n",
    "\n",
    "maior = a.max()\n",
    "menor = a.min()\n",
    "soma = a.sum()\n",
    "média = a.mean()\n",
    "DesvPad = a.std()\n",
    "\n",
    "print(\"O maior valor da matriz é {}\".format(str(maior)))\n",
    "print(\"O menor valor da matriz é {}\".format(str(menor)))\n",
    "print(\"A soma dos valores da matriz é {}\".format(str(soma)))\n",
    "print(\"A média dos valores da matriz é {}\".format(str(média)))\n",
    "print(\"O Desvio Padrão é {}\".format(str(DesvPad)))"
   ]
  }
 ],
 "metadata": {
  "kernelspec": {
   "display_name": "Python 3",
   "language": "python",
   "name": "python3"
  },
  "language_info": {
   "codemirror_mode": {
    "name": "ipython",
    "version": 3
   },
   "file_extension": ".py",
   "mimetype": "text/x-python",
   "name": "python",
   "nbconvert_exporter": "python",
   "pygments_lexer": "ipython3",
   "version": "3.7.4"
  }
 },
 "nbformat": 4,
 "nbformat_minor": 2
}
