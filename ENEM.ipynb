{
 "cells": [
  {
   "cell_type": "markdown",
   "metadata": {},
   "source": [
    "## Data Analytics - Microdados ENEM 2019"
   ]
  },
  {
   "cell_type": "code",
   "execution_count": 1,
   "metadata": {},
   "outputs": [],
   "source": [
    "import pandas as pd\n",
    "import matplotlib as mp"
   ]
  },
  {
   "cell_type": "code",
   "execution_count": 2,
   "metadata": {},
   "outputs": [],
   "source": [
    "# Na leitura dos dados, foi necessário informar as colunas desejadas devido o tamanho do arquivo (3 GB) \n",
    "\n",
    "colunas_df = ['NO_MUNICIPIO_RESIDENCIA','SG_UF_RESIDENCIA','NU_IDADE','TP_SEXO','TP_ESTADO_CIVIL','TP_COR_RACA','TP_NACIONALIDADE','TP_ST_CONCLUSAO','TP_ESCOLA','TP_ANO_CONCLUIU','IN_TREINEIRO','TP_DEPENDENCIA_ADM_ESC','TP_PRESENCA_CN','TP_PRESENCA_CH','TP_PRESENCA_LC','TP_PRESENCA_MT','NU_NOTA_CN','NU_NOTA_CH','NU_NOTA_LC','NU_NOTA_MT','TP_LINGUA','TP_STATUS_REDACAO','NU_NOTA_REDACAO','Q001','Q002','Q006']"
   ]
  },
  {
   "cell_type": "code",
   "execution_count": 3,
   "metadata": {},
   "outputs": [],
   "source": [
    "# Na leitura dos dados, foi necessário indicar o separador, a linguagem (ISO-8859-1)\n",
    "\n",
    "df_ENEM = pd.read_csv(r\"C:\\Users\\hiago.andrade\\Downloads\\microdados_enem_2019\\DADOS\\MICRODADOS_ENEM_2019.csv\", sep=\";\", encoding='ISO-8859-1', usecols=colunas_df)"
   ]
  },
  {
   "cell_type": "code",
   "execution_count": 4,
   "metadata": {},
   "outputs": [
    {
     "data": {
      "text/html": [
       "<div>\n",
       "<style scoped>\n",
       "    .dataframe tbody tr th:only-of-type {\n",
       "        vertical-align: middle;\n",
       "    }\n",
       "\n",
       "    .dataframe tbody tr th {\n",
       "        vertical-align: top;\n",
       "    }\n",
       "\n",
       "    .dataframe thead th {\n",
       "        text-align: right;\n",
       "    }\n",
       "</style>\n",
       "<table border=\"1\" class=\"dataframe\">\n",
       "  <thead>\n",
       "    <tr style=\"text-align: right;\">\n",
       "      <th></th>\n",
       "      <th>NO_MUNICIPIO_RESIDENCIA</th>\n",
       "      <th>SG_UF_RESIDENCIA</th>\n",
       "      <th>NU_IDADE</th>\n",
       "      <th>TP_SEXO</th>\n",
       "      <th>TP_ESTADO_CIVIL</th>\n",
       "      <th>TP_COR_RACA</th>\n",
       "      <th>TP_NACIONALIDADE</th>\n",
       "      <th>TP_ST_CONCLUSAO</th>\n",
       "      <th>TP_ANO_CONCLUIU</th>\n",
       "      <th>TP_ESCOLA</th>\n",
       "      <th>...</th>\n",
       "      <th>NU_NOTA_CN</th>\n",
       "      <th>NU_NOTA_CH</th>\n",
       "      <th>NU_NOTA_LC</th>\n",
       "      <th>NU_NOTA_MT</th>\n",
       "      <th>TP_LINGUA</th>\n",
       "      <th>TP_STATUS_REDACAO</th>\n",
       "      <th>NU_NOTA_REDACAO</th>\n",
       "      <th>Q001</th>\n",
       "      <th>Q002</th>\n",
       "      <th>Q006</th>\n",
       "    </tr>\n",
       "  </thead>\n",
       "  <tbody>\n",
       "    <tr>\n",
       "      <th>0</th>\n",
       "      <td>Santarém</td>\n",
       "      <td>PA</td>\n",
       "      <td>21</td>\n",
       "      <td>M</td>\n",
       "      <td>1</td>\n",
       "      <td>3</td>\n",
       "      <td>4</td>\n",
       "      <td>1</td>\n",
       "      <td>3</td>\n",
       "      <td>1</td>\n",
       "      <td>...</td>\n",
       "      <td>472.9</td>\n",
       "      <td>466.0</td>\n",
       "      <td>497.3</td>\n",
       "      <td>369.1</td>\n",
       "      <td>0</td>\n",
       "      <td>1.0</td>\n",
       "      <td>780.0</td>\n",
       "      <td>D</td>\n",
       "      <td>E</td>\n",
       "      <td>B</td>\n",
       "    </tr>\n",
       "    <tr>\n",
       "      <th>1</th>\n",
       "      <td>Mãe do Rio</td>\n",
       "      <td>PA</td>\n",
       "      <td>16</td>\n",
       "      <td>F</td>\n",
       "      <td>1</td>\n",
       "      <td>3</td>\n",
       "      <td>1</td>\n",
       "      <td>3</td>\n",
       "      <td>0</td>\n",
       "      <td>1</td>\n",
       "      <td>...</td>\n",
       "      <td>358.9</td>\n",
       "      <td>495.4</td>\n",
       "      <td>482.3</td>\n",
       "      <td>416.5</td>\n",
       "      <td>1</td>\n",
       "      <td>1.0</td>\n",
       "      <td>600.0</td>\n",
       "      <td>D</td>\n",
       "      <td>E</td>\n",
       "      <td>B</td>\n",
       "    </tr>\n",
       "    <tr>\n",
       "      <th>2</th>\n",
       "      <td>Paragominas</td>\n",
       "      <td>PA</td>\n",
       "      <td>18</td>\n",
       "      <td>F</td>\n",
       "      <td>1</td>\n",
       "      <td>1</td>\n",
       "      <td>1</td>\n",
       "      <td>2</td>\n",
       "      <td>0</td>\n",
       "      <td>3</td>\n",
       "      <td>...</td>\n",
       "      <td>574.2</td>\n",
       "      <td>538.7</td>\n",
       "      <td>582.6</td>\n",
       "      <td>571.5</td>\n",
       "      <td>0</td>\n",
       "      <td>1.0</td>\n",
       "      <td>640.0</td>\n",
       "      <td>H</td>\n",
       "      <td>E</td>\n",
       "      <td>C</td>\n",
       "    </tr>\n",
       "    <tr>\n",
       "      <th>3</th>\n",
       "      <td>São Sebastião da Boa Vista</td>\n",
       "      <td>PA</td>\n",
       "      <td>23</td>\n",
       "      <td>M</td>\n",
       "      <td>0</td>\n",
       "      <td>3</td>\n",
       "      <td>1</td>\n",
       "      <td>2</td>\n",
       "      <td>0</td>\n",
       "      <td>2</td>\n",
       "      <td>...</td>\n",
       "      <td>NaN</td>\n",
       "      <td>NaN</td>\n",
       "      <td>NaN</td>\n",
       "      <td>NaN</td>\n",
       "      <td>1</td>\n",
       "      <td>NaN</td>\n",
       "      <td>NaN</td>\n",
       "      <td>D</td>\n",
       "      <td>D</td>\n",
       "      <td>C</td>\n",
       "    </tr>\n",
       "    <tr>\n",
       "      <th>4</th>\n",
       "      <td>Juruti</td>\n",
       "      <td>PA</td>\n",
       "      <td>23</td>\n",
       "      <td>M</td>\n",
       "      <td>1</td>\n",
       "      <td>3</td>\n",
       "      <td>1</td>\n",
       "      <td>1</td>\n",
       "      <td>5</td>\n",
       "      <td>1</td>\n",
       "      <td>...</td>\n",
       "      <td>NaN</td>\n",
       "      <td>NaN</td>\n",
       "      <td>NaN</td>\n",
       "      <td>NaN</td>\n",
       "      <td>1</td>\n",
       "      <td>NaN</td>\n",
       "      <td>NaN</td>\n",
       "      <td>B</td>\n",
       "      <td>C</td>\n",
       "      <td>C</td>\n",
       "    </tr>\n",
       "  </tbody>\n",
       "</table>\n",
       "<p>5 rows × 26 columns</p>\n",
       "</div>"
      ],
      "text/plain": [
       "      NO_MUNICIPIO_RESIDENCIA SG_UF_RESIDENCIA  NU_IDADE TP_SEXO  \\\n",
       "0                    Santarém               PA        21       M   \n",
       "1                  Mãe do Rio               PA        16       F   \n",
       "2                 Paragominas               PA        18       F   \n",
       "3  São Sebastião da Boa Vista               PA        23       M   \n",
       "4                      Juruti               PA        23       M   \n",
       "\n",
       "   TP_ESTADO_CIVIL  TP_COR_RACA  TP_NACIONALIDADE  TP_ST_CONCLUSAO  \\\n",
       "0                1            3                 4                1   \n",
       "1                1            3                 1                3   \n",
       "2                1            1                 1                2   \n",
       "3                0            3                 1                2   \n",
       "4                1            3                 1                1   \n",
       "\n",
       "   TP_ANO_CONCLUIU  TP_ESCOLA  ...  NU_NOTA_CN  NU_NOTA_CH  NU_NOTA_LC  \\\n",
       "0                3          1  ...       472.9       466.0       497.3   \n",
       "1                0          1  ...       358.9       495.4       482.3   \n",
       "2                0          3  ...       574.2       538.7       582.6   \n",
       "3                0          2  ...         NaN         NaN         NaN   \n",
       "4                5          1  ...         NaN         NaN         NaN   \n",
       "\n",
       "   NU_NOTA_MT  TP_LINGUA  TP_STATUS_REDACAO  NU_NOTA_REDACAO  Q001  Q002  Q006  \n",
       "0       369.1          0                1.0            780.0     D     E     B  \n",
       "1       416.5          1                1.0            600.0     D     E     B  \n",
       "2       571.5          0                1.0            640.0     H     E     C  \n",
       "3         NaN          1                NaN              NaN     D     D     C  \n",
       "4         NaN          1                NaN              NaN     B     C     C  \n",
       "\n",
       "[5 rows x 26 columns]"
      ]
     },
     "execution_count": 4,
     "metadata": {},
     "output_type": "execute_result"
    }
   ],
   "source": [
    "df_ENEM.head(5)"
   ]
  },
  {
   "cell_type": "code",
   "execution_count": 5,
   "metadata": {},
   "outputs": [
    {
     "data": {
      "text/plain": [
       "(5095270, 26)"
      ]
     },
     "execution_count": 5,
     "metadata": {},
     "output_type": "execute_result"
    }
   ],
   "source": [
    "# (Linhas, Colunas)\n",
    "\n",
    "df_ENEM.shape"
   ]
  },
  {
   "cell_type": "markdown",
   "metadata": {},
   "source": [
    "### 1 - Número de participantes por Estado"
   ]
  },
  {
   "cell_type": "code",
   "execution_count": 6,
   "metadata": {},
   "outputs": [
    {
     "data": {
      "text/plain": [
       "SP    813772\n",
       "MG    538896\n",
       "BA    398095\n",
       "RJ    338710\n",
       "CE    295870\n",
       "PA    281518\n",
       "PE    271727\n",
       "MA    219673\n",
       "RS    218763\n",
       "PR    210080\n",
       "GO    170147\n",
       "PB    147780\n",
       "PI    121181\n",
       "RN    119179\n",
       "AM    118087\n",
       "SC    109515\n",
       "ES    102435\n",
       "DF     94352\n",
       "AL     91707\n",
       "MT     88349\n",
       "SE     75895\n",
       "MS     70157\n",
       "RO     58885\n",
       "TO     47181\n",
       "AP     42140\n",
       "AC     38229\n",
       "RR     12947\n",
       "Name: SG_UF_RESIDENCIA, dtype: int64"
      ]
     },
     "execution_count": 6,
     "metadata": {},
     "output_type": "execute_result"
    }
   ],
   "source": [
    "df_ENEM[\"SG_UF_RESIDENCIA\"].value_counts()"
   ]
  },
  {
   "cell_type": "markdown",
   "metadata": {},
   "source": [
    "### 2 - Número de participantes por Município"
   ]
  },
  {
   "cell_type": "code",
   "execution_count": 7,
   "metadata": {},
   "outputs": [
    {
     "data": {
      "text/plain": [
       "São Paulo                   229837\n",
       "Rio de Janeiro              137762\n",
       "Brasília                     94352\n",
       "Fortaleza                    93959\n",
       "Salvador                     88557\n",
       "                             ...  \n",
       "Monte Santo do Tocantins         9\n",
       "Pracinha                         9\n",
       "Sério                            8\n",
       "Araguainha                       6\n",
       "Forquetinha                      5\n",
       "Name: NO_MUNICIPIO_RESIDENCIA, Length: 5299, dtype: int64"
      ]
     },
     "execution_count": 7,
     "metadata": {},
     "output_type": "execute_result"
    }
   ],
   "source": [
    "df_ENEM[\"NO_MUNICIPIO_RESIDENCIA\"].value_counts()"
   ]
  },
  {
   "cell_type": "markdown",
   "metadata": {},
   "source": [
    "### 3 - Número de participantes por Idade"
   ]
  },
  {
   "cell_type": "code",
   "execution_count": 8,
   "metadata": {},
   "outputs": [
    {
     "data": {
      "text/plain": [
       "18    864186\n",
       "17    847303\n",
       "19    577161\n",
       "20    409385\n",
       "16    316437\n",
       "       ...  \n",
       "91         2\n",
       "92         1\n",
       "87         1\n",
       "88         1\n",
       "94         1\n",
       "Name: NU_IDADE, Length: 91, dtype: int64"
      ]
     },
     "execution_count": 8,
     "metadata": {},
     "output_type": "execute_result"
    }
   ],
   "source": [
    "df_ENEM[\"NU_IDADE\"].value_counts()"
   ]
  },
  {
   "cell_type": "code",
   "execution_count": 9,
   "metadata": {},
   "outputs": [
    {
     "data": {
      "text/plain": [
       "1     2\n",
       "2     4\n",
       "3     4\n",
       "4     2\n",
       "5     5\n",
       "     ..\n",
       "87    1\n",
       "88    1\n",
       "91    2\n",
       "92    1\n",
       "94    1\n",
       "Name: NU_IDADE, Length: 91, dtype: int64"
      ]
     },
     "execution_count": 9,
     "metadata": {},
     "output_type": "execute_result"
    }
   ],
   "source": [
    "# Número de participantes por Idade, ordenado por ordem crescente de idade\n",
    "\n",
    "df_ENEM[\"NU_IDADE\"].value_counts().sort_index()"
   ]
  },
  {
   "cell_type": "code",
   "execution_count": 10,
   "metadata": {},
   "outputs": [
    {
     "data": {
      "text/plain": [
       "<AxesSubplot:>"
      ]
     },
     "execution_count": 10,
     "metadata": {},
     "output_type": "execute_result"
    },
    {
     "data": {
      "image/png": "[encoded data removed]",
      "text/plain": [
       "<Figure size 432x288 with 1 Axes>"
      ]
     },
     "metadata": {
      "needs_background": "light"
     },
     "output_type": "display_data"
    }
   ],
   "source": [
    "# Histograma dos participantes por idade (Bins aumenta ou diminui a distribuição do histograma)\n",
    "\n",
    "df_ENEM[\"NU_IDADE\"].hist(bins=80)"
   ]
  },
  {
   "cell_type": "markdown",
   "metadata": {},
   "source": [
    "### 4 - Número de participantes por Sexo"
   ]
  },
  {
   "cell_type": "code",
   "execution_count": 11,
   "metadata": {},
   "outputs": [
    {
     "data": {
      "text/plain": [
       "F    3031822\n",
       "M    2063448\n",
       "Name: TP_SEXO, dtype: int64"
      ]
     },
     "execution_count": 11,
     "metadata": {},
     "output_type": "execute_result"
    }
   ],
   "source": [
    "df_ENEM[\"TP_SEXO\"].value_counts()"
   ]
  },
  {
   "cell_type": "code",
   "execution_count": 12,
   "metadata": {},
   "outputs": [
    {
     "name": "stdout",
     "output_type": "stream",
     "text": [
      "F    59.502676\n",
      "M    40.497324\n",
      "Name: TP_SEXO, dtype: float64\n"
     ]
    }
   ],
   "source": [
    "# % Número de participantes por Sexo\n",
    "\n",
    "sexo_percentual= (df_ENEM[\"TP_SEXO\"].value_counts() / 5095270)*100\n",
    "print(sexo_percentual)"
   ]
  },
  {
   "cell_type": "markdown",
   "metadata": {},
   "source": [
    "### 5 - Verificando qual sexo possui melhor redação no ENEM"
   ]
  },
  {
   "cell_type": "code",
   "execution_count": 13,
   "metadata": {},
   "outputs": [
    {
     "data": {
      "text/html": [
       "<div>\n",
       "<style scoped>\n",
       "    .dataframe tbody tr th:only-of-type {\n",
       "        vertical-align: middle;\n",
       "    }\n",
       "\n",
       "    .dataframe tbody tr th {\n",
       "        vertical-align: top;\n",
       "    }\n",
       "\n",
       "    .dataframe thead th {\n",
       "        text-align: right;\n",
       "    }\n",
       "</style>\n",
       "<table border=\"1\" class=\"dataframe\">\n",
       "  <thead>\n",
       "    <tr style=\"text-align: right;\">\n",
       "      <th></th>\n",
       "      <th>TP_SEXO</th>\n",
       "      <th>NU_NOTA_REDACAO</th>\n",
       "    </tr>\n",
       "  </thead>\n",
       "  <tbody>\n",
       "    <tr>\n",
       "      <th>0</th>\n",
       "      <td>M</td>\n",
       "      <td>780.0</td>\n",
       "    </tr>\n",
       "    <tr>\n",
       "      <th>1</th>\n",
       "      <td>F</td>\n",
       "      <td>600.0</td>\n",
       "    </tr>\n",
       "    <tr>\n",
       "      <th>2</th>\n",
       "      <td>F</td>\n",
       "      <td>640.0</td>\n",
       "    </tr>\n",
       "    <tr>\n",
       "      <th>3</th>\n",
       "      <td>M</td>\n",
       "      <td>NaN</td>\n",
       "    </tr>\n",
       "    <tr>\n",
       "      <th>4</th>\n",
       "      <td>M</td>\n",
       "      <td>NaN</td>\n",
       "    </tr>\n",
       "  </tbody>\n",
       "</table>\n",
       "</div>"
      ],
      "text/plain": [
       "  TP_SEXO  NU_NOTA_REDACAO\n",
       "0       M            780.0\n",
       "1       F            600.0\n",
       "2       F            640.0\n",
       "3       M              NaN\n",
       "4       M              NaN"
      ]
     },
     "execution_count": 13,
     "metadata": {},
     "output_type": "execute_result"
    }
   ],
   "source": [
    "df_ENEM_sex_red = df_ENEM.filter(items=[\"TP_SEXO\",\"NU_NOTA_REDACAO\"])\n",
    "df_ENEM_sex_red.head()"
   ]
  },
  {
   "cell_type": "code",
   "execution_count": 15,
   "metadata": {},
   "outputs": [
    {
     "data": {
      "text/html": [
       "<div>\n",
       "<style scoped>\n",
       "    .dataframe tbody tr th:only-of-type {\n",
       "        vertical-align: middle;\n",
       "    }\n",
       "\n",
       "    .dataframe tbody tr th {\n",
       "        vertical-align: top;\n",
       "    }\n",
       "\n",
       "    .dataframe thead th {\n",
       "        text-align: right;\n",
       "    }\n",
       "</style>\n",
       "<table border=\"1\" class=\"dataframe\">\n",
       "  <thead>\n",
       "    <tr style=\"text-align: right;\">\n",
       "      <th></th>\n",
       "      <th>TP_SEXO</th>\n",
       "      <th>NU_NOTA_REDACAO</th>\n",
       "    </tr>\n",
       "  </thead>\n",
       "  <tbody>\n",
       "    <tr>\n",
       "      <th>0</th>\n",
       "      <td>M</td>\n",
       "      <td>780.0</td>\n",
       "    </tr>\n",
       "    <tr>\n",
       "      <th>1</th>\n",
       "      <td>F</td>\n",
       "      <td>600.0</td>\n",
       "    </tr>\n",
       "    <tr>\n",
       "      <th>2</th>\n",
       "      <td>F</td>\n",
       "      <td>640.0</td>\n",
       "    </tr>\n",
       "    <tr>\n",
       "      <th>5</th>\n",
       "      <td>M</td>\n",
       "      <td>580.0</td>\n",
       "    </tr>\n",
       "    <tr>\n",
       "      <th>6</th>\n",
       "      <td>F</td>\n",
       "      <td>360.0</td>\n",
       "    </tr>\n",
       "  </tbody>\n",
       "</table>\n",
       "</div>"
      ],
      "text/plain": [
       "  TP_SEXO  NU_NOTA_REDACAO\n",
       "0       M            780.0\n",
       "1       F            600.0\n",
       "2       F            640.0\n",
       "5       M            580.0\n",
       "6       F            360.0"
      ]
     },
     "execution_count": 15,
     "metadata": {},
     "output_type": "execute_result"
    }
   ],
   "source": [
    "# Retirando candidatos com sem nota na redação\n",
    "\n",
    "df_ENEM_sex_red = df_ENEM_sex_red.dropna()\n",
    "df_ENEM_sex_red.head()"
   ]
  },
  {
   "cell_type": "code",
   "execution_count": 27,
   "metadata": {},
   "outputs": [
    {
     "data": {
      "text/html": [
       "<div>\n",
       "<style scoped>\n",
       "    .dataframe tbody tr th:only-of-type {\n",
       "        vertical-align: middle;\n",
       "    }\n",
       "\n",
       "    .dataframe tbody tr th {\n",
       "        vertical-align: top;\n",
       "    }\n",
       "\n",
       "    .dataframe thead tr th {\n",
       "        text-align: left;\n",
       "    }\n",
       "\n",
       "    .dataframe thead tr:last-of-type th {\n",
       "        text-align: right;\n",
       "    }\n",
       "</style>\n",
       "<table border=\"1\" class=\"dataframe\">\n",
       "  <thead>\n",
       "    <tr>\n",
       "      <th></th>\n",
       "      <th colspan=\"8\" halign=\"left\">NU_NOTA_REDACAO</th>\n",
       "    </tr>\n",
       "    <tr>\n",
       "      <th></th>\n",
       "      <th>count</th>\n",
       "      <th>mean</th>\n",
       "      <th>std</th>\n",
       "      <th>min</th>\n",
       "      <th>25%</th>\n",
       "      <th>50%</th>\n",
       "      <th>75%</th>\n",
       "      <th>max</th>\n",
       "    </tr>\n",
       "    <tr>\n",
       "      <th>TP_SEXO</th>\n",
       "      <th></th>\n",
       "      <th></th>\n",
       "      <th></th>\n",
       "      <th></th>\n",
       "      <th></th>\n",
       "      <th></th>\n",
       "      <th></th>\n",
       "      <th></th>\n",
       "    </tr>\n",
       "  </thead>\n",
       "  <tbody>\n",
       "    <tr>\n",
       "      <th>F</th>\n",
       "      <td>2336431.0</td>\n",
       "      <td>577.159368</td>\n",
       "      <td>187.536483</td>\n",
       "      <td>0.0</td>\n",
       "      <td>480.0</td>\n",
       "      <td>580.0</td>\n",
       "      <td>680.0</td>\n",
       "      <td>1000.0</td>\n",
       "    </tr>\n",
       "    <tr>\n",
       "      <th>M</th>\n",
       "      <td>1586713.0</td>\n",
       "      <td>562.396035</td>\n",
       "      <td>190.214499</td>\n",
       "      <td>0.0</td>\n",
       "      <td>480.0</td>\n",
       "      <td>580.0</td>\n",
       "      <td>660.0</td>\n",
       "      <td>1000.0</td>\n",
       "    </tr>\n",
       "  </tbody>\n",
       "</table>\n",
       "</div>"
      ],
      "text/plain": [
       "        NU_NOTA_REDACAO                                                    \\\n",
       "                  count        mean         std  min    25%    50%    75%   \n",
       "TP_SEXO                                                                     \n",
       "F             2336431.0  577.159368  187.536483  0.0  480.0  580.0  680.0   \n",
       "M             1586713.0  562.396035  190.214499  0.0  480.0  580.0  660.0   \n",
       "\n",
       "                 \n",
       "            max  \n",
       "TP_SEXO          \n",
       "F        1000.0  \n",
       "M        1000.0  "
      ]
     },
     "execution_count": 27,
     "metadata": {},
     "output_type": "execute_result"
    }
   ],
   "source": [
    "df_ENEM_sex_red.groupby('TP_SEXO').describe()"
   ]
  },
  {
   "cell_type": "code",
   "execution_count": 21,
   "metadata": {},
   "outputs": [
    {
     "data": {
      "text/html": [
       "<div>\n",
       "<style scoped>\n",
       "    .dataframe tbody tr th:only-of-type {\n",
       "        vertical-align: middle;\n",
       "    }\n",
       "\n",
       "    .dataframe tbody tr th {\n",
       "        vertical-align: top;\n",
       "    }\n",
       "\n",
       "    .dataframe thead th {\n",
       "        text-align: right;\n",
       "    }\n",
       "</style>\n",
       "<table border=\"1\" class=\"dataframe\">\n",
       "  <thead>\n",
       "    <tr style=\"text-align: right;\">\n",
       "      <th></th>\n",
       "      <th>NU_NOTA_REDACAO</th>\n",
       "    </tr>\n",
       "    <tr>\n",
       "      <th>TP_SEXO</th>\n",
       "      <th></th>\n",
       "    </tr>\n",
       "  </thead>\n",
       "  <tbody>\n",
       "    <tr>\n",
       "      <th>F</th>\n",
       "      <td>40.0</td>\n",
       "    </tr>\n",
       "    <tr>\n",
       "      <th>M</th>\n",
       "      <td>40.0</td>\n",
       "    </tr>\n",
       "  </tbody>\n",
       "</table>\n",
       "</div>"
      ],
      "text/plain": [
       "         NU_NOTA_REDACAO\n",
       "TP_SEXO                 \n",
       "F                   40.0\n",
       "M                   40.0"
      ]
     },
     "execution_count": 21,
     "metadata": {},
     "output_type": "execute_result"
    }
   ],
   "source": [
    "# Menor nota obtida por sexo (excluindo candidatos que zeraram a prova)\n",
    "\n",
    "df_ENEM_sex_red[df_ENEM_sex_red.NU_NOTA_REDACAO>0].groupby('TP_SEXO').min()"
   ]
  },
  {
   "cell_type": "code",
   "execution_count": 24,
   "metadata": {},
   "outputs": [
    {
     "data": {
      "text/plain": [
       "TP_SEXO\n",
       "F    [[AxesSubplot(0.125,0.125;0.775x0.755)]]\n",
       "M    [[AxesSubplot(0.125,0.125;0.775x0.755)]]\n",
       "dtype: object"
      ]
     },
     "execution_count": 24,
     "metadata": {},
     "output_type": "execute_result"
    },
    {
     "data": {
      "image/png": "[encoded data removed]",
      "text/plain": [
       "<Figure size 432x288 with 1 Axes>"
      ]
     },
     "metadata": {
      "needs_background": "light"
     },
     "output_type": "display_data"
    },
    {
     "data": {
      "image/png": "[encoded data removed]",
      "text/plain": [
       "<Figure size 432x288 with 1 Axes>"
      ]
     },
     "metadata": {
      "needs_background": "light"
     },
     "output_type": "display_data"
    }
   ],
   "source": [
    "df_ENEM_sex_red.groupby('TP_SEXO').hist()"
   ]
  },
  {
   "cell_type": "markdown",
   "metadata": {},
   "source": [
    "#### Como observado, a variavel sexo sozinha não é um bom indicador para determinar o desempenho na redação\n",
    "\n",
    "### Analisando fatores sociais:"
   ]
  },
  {
   "cell_type": "code",
   "execution_count": 28,
   "metadata": {},
   "outputs": [
    {
     "data": {
      "text/html": [
       "<div>\n",
       "<style scoped>\n",
       "    .dataframe tbody tr th:only-of-type {\n",
       "        vertical-align: middle;\n",
       "    }\n",
       "\n",
       "    .dataframe tbody tr th {\n",
       "        vertical-align: top;\n",
       "    }\n",
       "\n",
       "    .dataframe thead th {\n",
       "        text-align: right;\n",
       "    }\n",
       "</style>\n",
       "<table border=\"1\" class=\"dataframe\">\n",
       "  <thead>\n",
       "    <tr style=\"text-align: right;\">\n",
       "      <th></th>\n",
       "      <th>TP_SEXO</th>\n",
       "      <th>NU_NOTA_REDACAO</th>\n",
       "      <th>Q001</th>\n",
       "      <th>Q002</th>\n",
       "      <th>Q006</th>\n",
       "    </tr>\n",
       "  </thead>\n",
       "  <tbody>\n",
       "    <tr>\n",
       "      <th>0</th>\n",
       "      <td>M</td>\n",
       "      <td>780.0</td>\n",
       "      <td>D</td>\n",
       "      <td>E</td>\n",
       "      <td>B</td>\n",
       "    </tr>\n",
       "    <tr>\n",
       "      <th>1</th>\n",
       "      <td>F</td>\n",
       "      <td>600.0</td>\n",
       "      <td>D</td>\n",
       "      <td>E</td>\n",
       "      <td>B</td>\n",
       "    </tr>\n",
       "    <tr>\n",
       "      <th>2</th>\n",
       "      <td>F</td>\n",
       "      <td>640.0</td>\n",
       "      <td>H</td>\n",
       "      <td>E</td>\n",
       "      <td>C</td>\n",
       "    </tr>\n",
       "    <tr>\n",
       "      <th>5</th>\n",
       "      <td>M</td>\n",
       "      <td>580.0</td>\n",
       "      <td>C</td>\n",
       "      <td>C</td>\n",
       "      <td>C</td>\n",
       "    </tr>\n",
       "    <tr>\n",
       "      <th>6</th>\n",
       "      <td>F</td>\n",
       "      <td>360.0</td>\n",
       "      <td>B</td>\n",
       "      <td>B</td>\n",
       "      <td>C</td>\n",
       "    </tr>\n",
       "  </tbody>\n",
       "</table>\n",
       "</div>"
      ],
      "text/plain": [
       "  TP_SEXO  NU_NOTA_REDACAO Q001 Q002 Q006\n",
       "0       M            780.0    D    E    B\n",
       "1       F            600.0    D    E    B\n",
       "2       F            640.0    H    E    C\n",
       "5       M            580.0    C    C    C\n",
       "6       F            360.0    B    B    C"
      ]
     },
     "execution_count": 28,
     "metadata": {},
     "output_type": "execute_result"
    }
   ],
   "source": [
    "df_ENEM_sex_soci_red = df_ENEM.filter(items=[\"TP_SEXO\",\"NU_NOTA_REDACAO\",\"Q001\",\"Q002\",\"Q006\"])\n",
    "df_ENEM_sex_soci_red = df_ENEM_sex_soci_red.dropna()\n",
    "df_ENEM_sex_soci_red.head()"
   ]
  },
  {
   "cell_type": "code",
   "execution_count": 35,
   "metadata": {},
   "outputs": [],
   "source": [
    "# Trazendo os significados das informações no dicionario de dados do ENEM\n",
    "\n",
    "# Q001 = Até que série seu pai, ou o homem responsável por você, estudou?\n",
    "# Q002 = Até que série sua mãe, ou a mulher responsável por você, estudou?\n",
    "# Q006 = Qual é a renda mensal de sua família? (Some a sua renda com a dos seus familiares.)\n",
    "\n",
    "Q001eQ002significado = {'A':'Nunca estudou.',\n",
    "                        'B':'Não completou a 4ª série/5º ano do Ensino Fundamental.',\n",
    "                        'C':'Completou a 4ª série/5º ano, mas não completou a 8ª série/9º ano do Ensino Fundamental.',\n",
    "                        'D':'Completou a 8ª série/9º ano do Ensino Fundamental, mas não completou o Ensino Médio.',\n",
    "                        'E':'Completou o Ensino Médio, mas não completou a Faculdade.',\n",
    "                        'F':'Completou a Faculdade, mas não completou a Pós-graduação.',\n",
    "                        'G':'Completou a Pós-graduação.',\n",
    "                        'H':'Não sei.',}\n",
    "\n",
    "Q006significado = {'A':'Nenhuma renda.',\n",
    "                   'B':'Até R$ 998,00.',\n",
    "                   'C':'De R$ 998,01 até R$ 1.497,00.',\n",
    "                   'D':'De R$ 1.497,01 até R$ 1.996,00.',\n",
    "                   'E':'De R$ 1.996,01 até R$ 2.495,00.',\n",
    "                   'F':'De R$ 2.495,01 até R$ 2.994,00.',\n",
    "                   'G':'De R$ 2.994,01 até R$ 3.992,00.',\n",
    "                   'H':'De R$ 3.992,01 até R$ 4.990,00.',\n",
    "                   'I':'De R$ 4.990,01 até R$ 5.988,00.',\n",
    "                   'J':'De R$ 5.988,01 até R$ 6.986,00.',\n",
    "                   'K':'De R$ 6.986,01 até R$ 7.984,00.',\n",
    "                   'L':'De R$ 7.984,01 até R$ 8.982,00.',\n",
    "                   'M':'De R$ 8.982,01 até R$ 9.980,00.',\n",
    "                   'N':'De R$ 9.980,01 até R$ 11.976,00.',\n",
    "                   'O':'De R$ 11.976,01 até R$ 14.970,00.',\n",
    "                   'P':'De R$ 14.970,01 até R$ 19.960,00.',\n",
    "                   'Q':'Mais de R$ 19.960,00.',}"
   ]
  },
  {
   "cell_type": "code",
   "execution_count": 36,
   "metadata": {},
   "outputs": [
    {
     "data": {
      "text/html": [
       "<div>\n",
       "<style scoped>\n",
       "    .dataframe tbody tr th:only-of-type {\n",
       "        vertical-align: middle;\n",
       "    }\n",
       "\n",
       "    .dataframe tbody tr th {\n",
       "        vertical-align: top;\n",
       "    }\n",
       "\n",
       "    .dataframe thead th {\n",
       "        text-align: right;\n",
       "    }\n",
       "</style>\n",
       "<table border=\"1\" class=\"dataframe\">\n",
       "  <thead>\n",
       "    <tr style=\"text-align: right;\">\n",
       "      <th></th>\n",
       "      <th>TP_SEXO</th>\n",
       "      <th>NU_NOTA_REDACAO</th>\n",
       "      <th>Q001</th>\n",
       "      <th>Q002</th>\n",
       "      <th>Q006</th>\n",
       "      <th>Sig_Q001</th>\n",
       "      <th>Sig_Q002</th>\n",
       "      <th>Sig_Q006</th>\n",
       "    </tr>\n",
       "  </thead>\n",
       "  <tbody>\n",
       "    <tr>\n",
       "      <th>0</th>\n",
       "      <td>M</td>\n",
       "      <td>780.0</td>\n",
       "      <td>D</td>\n",
       "      <td>E</td>\n",
       "      <td>B</td>\n",
       "      <td>Completou a 8ª série/9º ano do Ensino Fundamen...</td>\n",
       "      <td>Completou o Ensino Médio, mas não completou a ...</td>\n",
       "      <td>Até R$ 998,00.</td>\n",
       "    </tr>\n",
       "    <tr>\n",
       "      <th>1</th>\n",
       "      <td>F</td>\n",
       "      <td>600.0</td>\n",
       "      <td>D</td>\n",
       "      <td>E</td>\n",
       "      <td>B</td>\n",
       "      <td>Completou a 8ª série/9º ano do Ensino Fundamen...</td>\n",
       "      <td>Completou o Ensino Médio, mas não completou a ...</td>\n",
       "      <td>Até R$ 998,00.</td>\n",
       "    </tr>\n",
       "    <tr>\n",
       "      <th>2</th>\n",
       "      <td>F</td>\n",
       "      <td>640.0</td>\n",
       "      <td>H</td>\n",
       "      <td>E</td>\n",
       "      <td>C</td>\n",
       "      <td>Não sei.</td>\n",
       "      <td>Completou o Ensino Médio, mas não completou a ...</td>\n",
       "      <td>De R$ 998,01 até R$ 1.497,00.</td>\n",
       "    </tr>\n",
       "    <tr>\n",
       "      <th>5</th>\n",
       "      <td>M</td>\n",
       "      <td>580.0</td>\n",
       "      <td>C</td>\n",
       "      <td>C</td>\n",
       "      <td>C</td>\n",
       "      <td>Completou a 4ª série/5º ano, mas não completou...</td>\n",
       "      <td>Completou a 4ª série/5º ano, mas não completou...</td>\n",
       "      <td>De R$ 998,01 até R$ 1.497,00.</td>\n",
       "    </tr>\n",
       "    <tr>\n",
       "      <th>6</th>\n",
       "      <td>F</td>\n",
       "      <td>360.0</td>\n",
       "      <td>B</td>\n",
       "      <td>B</td>\n",
       "      <td>C</td>\n",
       "      <td>Não completou a 4ª série/5º ano do Ensino Fund...</td>\n",
       "      <td>Não completou a 4ª série/5º ano do Ensino Fund...</td>\n",
       "      <td>De R$ 998,01 até R$ 1.497,00.</td>\n",
       "    </tr>\n",
       "  </tbody>\n",
       "</table>\n",
       "</div>"
      ],
      "text/plain": [
       "  TP_SEXO  NU_NOTA_REDACAO Q001 Q002 Q006  \\\n",
       "0       M            780.0    D    E    B   \n",
       "1       F            600.0    D    E    B   \n",
       "2       F            640.0    H    E    C   \n",
       "5       M            580.0    C    C    C   \n",
       "6       F            360.0    B    B    C   \n",
       "\n",
       "                                            Sig_Q001  \\\n",
       "0  Completou a 8ª série/9º ano do Ensino Fundamen...   \n",
       "1  Completou a 8ª série/9º ano do Ensino Fundamen...   \n",
       "2                                           Não sei.   \n",
       "5  Completou a 4ª série/5º ano, mas não completou...   \n",
       "6  Não completou a 4ª série/5º ano do Ensino Fund...   \n",
       "\n",
       "                                            Sig_Q002  \\\n",
       "0  Completou o Ensino Médio, mas não completou a ...   \n",
       "1  Completou o Ensino Médio, mas não completou a ...   \n",
       "2  Completou o Ensino Médio, mas não completou a ...   \n",
       "5  Completou a 4ª série/5º ano, mas não completou...   \n",
       "6  Não completou a 4ª série/5º ano do Ensino Fund...   \n",
       "\n",
       "                        Sig_Q006  \n",
       "0                 Até R$ 998,00.  \n",
       "1                 Até R$ 998,00.  \n",
       "2  De R$ 998,01 até R$ 1.497,00.  \n",
       "5  De R$ 998,01 até R$ 1.497,00.  \n",
       "6  De R$ 998,01 até R$ 1.497,00.  "
      ]
     },
     "execution_count": 36,
     "metadata": {},
     "output_type": "execute_result"
    }
   ],
   "source": [
    "df_ENEM_sex_soci_red['Sig_Q001'] = [Q001eQ002significado[resposta] for resposta in df_ENEM_sex_soci_red.Q001]\n",
    "df_ENEM_sex_soci_red['Sig_Q002'] = [Q001eQ002significado[resposta] for resposta in df_ENEM_sex_soci_red.Q002]\n",
    "df_ENEM_sex_soci_red['Sig_Q006'] = [Q006significado[resposta] for resposta in df_ENEM_sex_soci_red.Q006]\n",
    "\n",
    "df_ENEM_sex_soci_red.head()"
   ]
  },
  {
   "cell_type": "code",
   "execution_count": 39,
   "metadata": {},
   "outputs": [
    {
     "data": {
      "text/plain": [
       "Completou o Ensino Médio, mas não completou a Faculdade.                                   1058282\n",
       "Não completou a 4ª série/5º ano do Ensino Fundamental.                                      805643\n",
       "Completou a 4ª série/5º ano, mas não completou a 8ª série/9º ano do Ensino Fundamental.     548748\n",
       "Completou a 8ª série/9º ano do Ensino Fundamental, mas não completou o Ensino Médio.        459610\n",
       "Não sei.                                                                                    329280\n",
       "Completou a Faculdade, mas não completou a Pós-graduação.                                   320457\n",
       "Completou a Pós-graduação.                                                                  200793\n",
       "Nunca estudou.                                                                              200331\n",
       "Name: Sig_Q001, dtype: int64"
      ]
     },
     "execution_count": 39,
     "metadata": {},
     "output_type": "execute_result"
    }
   ],
   "source": [
    "df_ENEM_sex_soci_red['Sig_Q001'].value_counts()"
   ]
  },
  {
   "cell_type": "markdown",
   "metadata": {},
   "source": [
    "#### Na maior parte dos candidatos, o pai completou o Ensino Médio, mas não a Faculdade\n",
    "##### Interessante observar que o número de Pais que completaram a Pós-graduação é similar ao numero de pais que nunca estudaram"
   ]
  },
  {
   "cell_type": "code",
   "execution_count": 40,
   "metadata": {},
   "outputs": [
    {
     "data": {
      "text/plain": [
       "Completou o Ensino Médio, mas não completou a Faculdade.                                   1303340\n",
       "Não completou a 4ª série/5º ano do Ensino Fundamental.                                      592468\n",
       "Completou a 8ª série/9º ano do Ensino Fundamental, mas não completou o Ensino Médio.        507256\n",
       "Completou a 4ª série/5º ano, mas não completou a 8ª série/9º ano do Ensino Fundamental.     503999\n",
       "Completou a Faculdade, mas não completou a Pós-graduação.                                   433935\n",
       "Completou a Pós-graduação.                                                                  345941\n",
       "Nunca estudou.                                                                              130880\n",
       "Não sei.                                                                                    105325\n",
       "Name: Sig_Q002, dtype: int64"
      ]
     },
     "execution_count": 40,
     "metadata": {},
     "output_type": "execute_result"
    }
   ],
   "source": [
    "df_ENEM_sex_soci_red['Sig_Q002'].value_counts()"
   ]
  },
  {
   "cell_type": "markdown",
   "metadata": {},
   "source": [
    "#### Assim como no caso dos pais, a maioria das mães completou o Ensino Médio, mas não a Faculdade\n",
    "##### Já nesse caso, Interessante observar que o número de \"não sei\" é muito menor quando comparado com os Pais. Isso mostra indicios que uma quantidade relevante de candidatos podem não conhecer seus pais."
   ]
  },
  {
   "cell_type": "code",
   "execution_count": 46,
   "metadata": {},
   "outputs": [
    {
     "data": {
      "text/html": [
       "<div>\n",
       "<style scoped>\n",
       "    .dataframe tbody tr th:only-of-type {\n",
       "        vertical-align: middle;\n",
       "    }\n",
       "\n",
       "    .dataframe tbody tr th {\n",
       "        vertical-align: top;\n",
       "    }\n",
       "\n",
       "    .dataframe thead th {\n",
       "        text-align: right;\n",
       "    }\n",
       "</style>\n",
       "<table border=\"1\" class=\"dataframe\">\n",
       "  <thead>\n",
       "    <tr style=\"text-align: right;\">\n",
       "      <th></th>\n",
       "      <th>NU_NOTA_REDACAO</th>\n",
       "    </tr>\n",
       "    <tr>\n",
       "      <th>Sig_Q001</th>\n",
       "      <th></th>\n",
       "    </tr>\n",
       "  </thead>\n",
       "  <tbody>\n",
       "    <tr>\n",
       "      <th>Completou a Pós-graduação.</th>\n",
       "      <td>694.972634</td>\n",
       "    </tr>\n",
       "    <tr>\n",
       "      <th>Completou a Faculdade, mas não completou a Pós-graduação.</th>\n",
       "      <td>667.424584</td>\n",
       "    </tr>\n",
       "    <tr>\n",
       "      <th>Completou o Ensino Médio, mas não completou a Faculdade.</th>\n",
       "      <td>597.312153</td>\n",
       "    </tr>\n",
       "    <tr>\n",
       "      <th>Completou a 8ª série/9º ano do Ensino Fundamental, mas não completou o Ensino Médio.</th>\n",
       "      <td>566.110398</td>\n",
       "    </tr>\n",
       "    <tr>\n",
       "      <th>Completou a 4ª série/5º ano, mas não completou a 8ª série/9º ano do Ensino Fundamental.</th>\n",
       "      <td>549.869448</td>\n",
       "    </tr>\n",
       "    <tr>\n",
       "      <th>Não sei.</th>\n",
       "      <td>526.842383</td>\n",
       "    </tr>\n",
       "    <tr>\n",
       "      <th>Não completou a 4ª série/5º ano do Ensino Fundamental.</th>\n",
       "      <td>524.302749</td>\n",
       "    </tr>\n",
       "    <tr>\n",
       "      <th>Nunca estudou.</th>\n",
       "      <td>486.662873</td>\n",
       "    </tr>\n",
       "  </tbody>\n",
       "</table>\n",
       "</div>"
      ],
      "text/plain": [
       "                                                    NU_NOTA_REDACAO\n",
       "Sig_Q001                                                           \n",
       "Completou a Pós-graduação.                               694.972634\n",
       "Completou a Faculdade, mas não completou a Pós-...       667.424584\n",
       "Completou o Ensino Médio, mas não completou a F...       597.312153\n",
       "Completou a 8ª série/9º ano do Ensino Fundament...       566.110398\n",
       "Completou a 4ª série/5º ano, mas não completou ...       549.869448\n",
       "Não sei.                                                 526.842383\n",
       "Não completou a 4ª série/5º ano do Ensino Funda...       524.302749\n",
       "Nunca estudou.                                           486.662873"
      ]
     },
     "execution_count": 46,
     "metadata": {},
     "output_type": "execute_result"
    }
   ],
   "source": [
    "df_ENEM_sex_soci_red.filter(items=['NU_NOTA_REDACAO','Sig_Q001']).groupby('Sig_Q001').mean().sort_values(by='NU_NOTA_REDACAO', ascending=False)"
   ]
  },
  {
   "cell_type": "code",
   "execution_count": 47,
   "metadata": {},
   "outputs": [
    {
     "data": {
      "text/html": [
       "<div>\n",
       "<style scoped>\n",
       "    .dataframe tbody tr th:only-of-type {\n",
       "        vertical-align: middle;\n",
       "    }\n",
       "\n",
       "    .dataframe tbody tr th {\n",
       "        vertical-align: top;\n",
       "    }\n",
       "\n",
       "    .dataframe thead th {\n",
       "        text-align: right;\n",
       "    }\n",
       "</style>\n",
       "<table border=\"1\" class=\"dataframe\">\n",
       "  <thead>\n",
       "    <tr style=\"text-align: right;\">\n",
       "      <th></th>\n",
       "      <th>NU_NOTA_REDACAO</th>\n",
       "    </tr>\n",
       "    <tr>\n",
       "      <th>Sig_Q002</th>\n",
       "      <th></th>\n",
       "    </tr>\n",
       "  </thead>\n",
       "  <tbody>\n",
       "    <tr>\n",
       "      <th>Completou a Pós-graduação.</th>\n",
       "      <td>670.202433</td>\n",
       "    </tr>\n",
       "    <tr>\n",
       "      <th>Completou a Faculdade, mas não completou a Pós-graduação.</th>\n",
       "      <td>649.122242</td>\n",
       "    </tr>\n",
       "    <tr>\n",
       "      <th>Completou o Ensino Médio, mas não completou a Faculdade.</th>\n",
       "      <td>583.298848</td>\n",
       "    </tr>\n",
       "    <tr>\n",
       "      <th>Completou a 8ª série/9º ano do Ensino Fundamental, mas não completou o Ensino Médio.</th>\n",
       "      <td>550.399443</td>\n",
       "    </tr>\n",
       "    <tr>\n",
       "      <th>Completou a 4ª série/5º ano, mas não completou a 8ª série/9º ano do Ensino Fundamental.</th>\n",
       "      <td>535.135982</td>\n",
       "    </tr>\n",
       "    <tr>\n",
       "      <th>Não completou a 4ª série/5º ano do Ensino Fundamental.</th>\n",
       "      <td>513.507869</td>\n",
       "    </tr>\n",
       "    <tr>\n",
       "      <th>Não sei.</th>\n",
       "      <td>494.422407</td>\n",
       "    </tr>\n",
       "    <tr>\n",
       "      <th>Nunca estudou.</th>\n",
       "      <td>472.773686</td>\n",
       "    </tr>\n",
       "  </tbody>\n",
       "</table>\n",
       "</div>"
      ],
      "text/plain": [
       "                                                    NU_NOTA_REDACAO\n",
       "Sig_Q002                                                           \n",
       "Completou a Pós-graduação.                               670.202433\n",
       "Completou a Faculdade, mas não completou a Pós-...       649.122242\n",
       "Completou o Ensino Médio, mas não completou a F...       583.298848\n",
       "Completou a 8ª série/9º ano do Ensino Fundament...       550.399443\n",
       "Completou a 4ª série/5º ano, mas não completou ...       535.135982\n",
       "Não completou a 4ª série/5º ano do Ensino Funda...       513.507869\n",
       "Não sei.                                                 494.422407\n",
       "Nunca estudou.                                           472.773686"
      ]
     },
     "execution_count": 47,
     "metadata": {},
     "output_type": "execute_result"
    }
   ],
   "source": [
    "df_ENEM_sex_soci_red.filter(items=['NU_NOTA_REDACAO','Sig_Q002']).groupby('Sig_Q002').mean().sort_values(by='NU_NOTA_REDACAO', ascending=False)"
   ]
  },
  {
   "cell_type": "markdown",
   "metadata": {},
   "source": [
    "#### Os indicadores sociais de educação podem ser consideradas boas variaveis para determinar o desempenho na redação, visto que quanto maior o nivel educacional dos pais, maior a nota média da redação dos candidatos"
   ]
  },
  {
   "cell_type": "code",
   "execution_count": 48,
   "metadata": {},
   "outputs": [
    {
     "data": {
      "text/html": [
       "<div>\n",
       "<style scoped>\n",
       "    .dataframe tbody tr th:only-of-type {\n",
       "        vertical-align: middle;\n",
       "    }\n",
       "\n",
       "    .dataframe tbody tr th {\n",
       "        vertical-align: top;\n",
       "    }\n",
       "\n",
       "    .dataframe thead th {\n",
       "        text-align: right;\n",
       "    }\n",
       "</style>\n",
       "<table border=\"1\" class=\"dataframe\">\n",
       "  <thead>\n",
       "    <tr style=\"text-align: right;\">\n",
       "      <th></th>\n",
       "      <th>NU_NOTA_REDACAO</th>\n",
       "    </tr>\n",
       "    <tr>\n",
       "      <th>Sig_Q006</th>\n",
       "      <th></th>\n",
       "    </tr>\n",
       "  </thead>\n",
       "  <tbody>\n",
       "    <tr>\n",
       "      <th>Mais de R$ 19.960,00.</th>\n",
       "      <td>739.822144</td>\n",
       "    </tr>\n",
       "    <tr>\n",
       "      <th>De R$ 14.970,01 até R$ 19.960,00.</th>\n",
       "      <td>730.822273</td>\n",
       "    </tr>\n",
       "    <tr>\n",
       "      <th>De R$ 11.976,01 até R$ 14.970,00.</th>\n",
       "      <td>721.018687</td>\n",
       "    </tr>\n",
       "    <tr>\n",
       "      <th>De R$ 9.980,01 até R$ 11.976,00.</th>\n",
       "      <td>707.907541</td>\n",
       "    </tr>\n",
       "    <tr>\n",
       "      <th>De R$ 8.982,01 até R$ 9.980,00.</th>\n",
       "      <td>697.769873</td>\n",
       "    </tr>\n",
       "    <tr>\n",
       "      <th>De R$ 7.984,01 até R$ 8.982,00.</th>\n",
       "      <td>695.003674</td>\n",
       "    </tr>\n",
       "    <tr>\n",
       "      <th>De R$ 6.986,01 até R$ 7.984,00.</th>\n",
       "      <td>684.085178</td>\n",
       "    </tr>\n",
       "    <tr>\n",
       "      <th>De R$ 5.988,01 até R$ 6.986,00.</th>\n",
       "      <td>676.622158</td>\n",
       "    </tr>\n",
       "    <tr>\n",
       "      <th>De R$ 4.990,01 até R$ 5.988,00.</th>\n",
       "      <td>659.431436</td>\n",
       "    </tr>\n",
       "    <tr>\n",
       "      <th>De R$ 3.992,01 até R$ 4.990,00.</th>\n",
       "      <td>644.826486</td>\n",
       "    </tr>\n",
       "    <tr>\n",
       "      <th>De R$ 2.994,01 até R$ 3.992,00.</th>\n",
       "      <td>620.576447</td>\n",
       "    </tr>\n",
       "    <tr>\n",
       "      <th>De R$ 2.495,01 até R$ 2.994,00.</th>\n",
       "      <td>604.528235</td>\n",
       "    </tr>\n",
       "    <tr>\n",
       "      <th>De R$ 1.996,01 até R$ 2.495,00.</th>\n",
       "      <td>582.121034</td>\n",
       "    </tr>\n",
       "    <tr>\n",
       "      <th>De R$ 1.497,01 até R$ 1.996,00.</th>\n",
       "      <td>567.432480</td>\n",
       "    </tr>\n",
       "    <tr>\n",
       "      <th>De R$ 998,01 até R$ 1.497,00.</th>\n",
       "      <td>543.510408</td>\n",
       "    </tr>\n",
       "    <tr>\n",
       "      <th>Até R$ 998,00.</th>\n",
       "      <td>514.643716</td>\n",
       "    </tr>\n",
       "    <tr>\n",
       "      <th>Nenhuma renda.</th>\n",
       "      <td>493.278538</td>\n",
       "    </tr>\n",
       "  </tbody>\n",
       "</table>\n",
       "</div>"
      ],
      "text/plain": [
       "                                   NU_NOTA_REDACAO\n",
       "Sig_Q006                                          \n",
       "Mais de R$ 19.960,00.                   739.822144\n",
       "De R$ 14.970,01 até R$ 19.960,00.       730.822273\n",
       "De R$ 11.976,01 até R$ 14.970,00.       721.018687\n",
       "De R$ 9.980,01 até R$ 11.976,00.        707.907541\n",
       "De R$ 8.982,01 até R$ 9.980,00.         697.769873\n",
       "De R$ 7.984,01 até R$ 8.982,00.         695.003674\n",
       "De R$ 6.986,01 até R$ 7.984,00.         684.085178\n",
       "De R$ 5.988,01 até R$ 6.986,00.         676.622158\n",
       "De R$ 4.990,01 até R$ 5.988,00.         659.431436\n",
       "De R$ 3.992,01 até R$ 4.990,00.         644.826486\n",
       "De R$ 2.994,01 até R$ 3.992,00.         620.576447\n",
       "De R$ 2.495,01 até R$ 2.994,00.         604.528235\n",
       "De R$ 1.996,01 até R$ 2.495,00.         582.121034\n",
       "De R$ 1.497,01 até R$ 1.996,00.         567.432480\n",
       "De R$ 998,01 até R$ 1.497,00.           543.510408\n",
       "Até R$ 998,00.                          514.643716\n",
       "Nenhuma renda.                          493.278538"
      ]
     },
     "execution_count": 48,
     "metadata": {},
     "output_type": "execute_result"
    }
   ],
   "source": [
    "df_ENEM_sex_soci_red.filter(items=['NU_NOTA_REDACAO','Sig_Q006']).groupby('Sig_Q006').mean().sort_values(by='NU_NOTA_REDACAO', ascending=False)"
   ]
  },
  {
   "cell_type": "markdown",
   "metadata": {},
   "source": [
    "#### O indicador renda tambem pode ser considerado uma boa variavel, visto que quanto maior a renda familiar, maior a nota média da redação dos candidatos. Quanto maior a renda, os candidatos tendem a frequentar melhores escolas, realizar cursos preparatórios particulares etc"
   ]
  }
 ],
 "metadata": {
  "kernelspec": {
   "display_name": "Python 3",
   "language": "python",
   "name": "python3"
  },
  "language_info": {
   "codemirror_mode": {
    "name": "ipython",
    "version": 3
   },
   "file_extension": ".py",
   "mimetype": "text/x-python",
   "name": "python",
   "nbconvert_exporter": "python",
   "pygments_lexer": "ipython3",
   "version": "3.8.5"
  }
 },
 "nbformat": 4,
 "nbformat_minor": 4
}
